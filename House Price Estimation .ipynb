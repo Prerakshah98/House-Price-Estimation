{
 "cells": [
  {
   "cell_type": "code",
   "execution_count": 0,
   "metadata": {
    "colab": {},
    "colab_type": "code",
    "id": "frC-P2i0AuDy"
   },
   "outputs": [],
   "source": [
    "import pandas as pd\n",
    "import numpy as np\n",
    "import os\n",
    "import matplotlib.pyplot as plt\n",
    "%matplotlib inline\n",
    "from sklearn import metrics\n",
    "from sklearn.model_selection import train_test_split\n",
    "from sklearn.metrics import mean_squared_error,r2_score\n",
    "from IPython.display import Image\n",
    "import glob\n",
    "import cv2\n",
    "import seaborn as sns\n",
    "# Encode text values to dummy variables(i.e. [1,0,0],[0,1,0],[0,0,1] for red,green,blue)\n",
    "def encode_text_dummy(df, name):\n",
    "    dummies = pd.get_dummies(df[name])\n",
    "    for x in dummies.columns:\n",
    "        dummy_name = \"{}-{}\".format(name, x)\n",
    "        df[dummy_name] = dummies[x]\n",
    "    df.drop(name, axis=1, inplace=True)\n",
    "\n",
    "# Encode a numeric column as zscores\n",
    "def encode_numeric_zscore(df, name, mean=None, sd=None):\n",
    "    if mean is None:\n",
    "        mean = df[name].mean()\n",
    "\n",
    "    if sd is None:\n",
    "        sd = df[name].std()\n",
    "\n",
    "    df[name] = (df[name] - mean) / sd\n",
    "\n",
    "    \n",
    "def get_outliers_row_idecies(df, name, sd):\n",
    "    outliers_row_indecies = df.index[(np.abs(df[name] - df[name].mean()) >= (sd * df[name].std()))]\n",
    "    return outliers_row_indecies\n",
    "\n",
    "# Regression chart.\n",
    "\n",
    "def chart_regression(pred,y,sort=True):\n",
    "    t = pd.DataFrame({'pred' : pred, 'y' : y.flatten()})\n",
    "    if sort:\n",
    "        t.sort_values(by=['y'],inplace=True)\n",
    "    a = plt.plot(t['y'].tolist(),label='expected')\n",
    "    b = plt.plot(t['pred'].tolist(),label='prediction')\n",
    "    plt.ylabel('output')\n",
    "    plt.legend()\n",
    "    plt.show()\n",
    "    \n",
    "\n",
    "def read_images(path_images='drive/My Drive/Colab Notebooks/Houses Dataset/'):\n",
    "    '''Loading images and creating Datafram'''\n",
    "    \n",
    "    img = pd.DataFrame()\n",
    "\n",
    "    #Bathroom Image\n",
    "    bathroom_images=[]\n",
    "    for number in range(1, 536):\n",
    "        for path in glob.glob(path_images + str(number) + \"_bathroom.jpg\"):\n",
    "            if os.path.isfile(path):\n",
    "                bathroom_images.append(path)\n",
    "\n",
    "    img['Bathroom_img'] = bathroom_images\n",
    "    \n",
    "    #Bedroom Image\n",
    "    bedroom_images=[]\n",
    "    for number in range(1, 536):\n",
    "        for path in glob.glob(path_images + str(number) + \"_bedroom.jpg\"):\n",
    "            if os.path.isfile(path):\n",
    "                bedroom_images.append(path)\n",
    "\n",
    "    img['Bedroom_img'] = bedroom_images\n",
    "    \n",
    "    #FrontalImage\n",
    "    frontal_images=[]\n",
    "    for number in range(1, 536):\n",
    "        for path in glob.glob(path_images + str(number) + \"_frontal.jpg\"):\n",
    "            if os.path.isfile(path):\n",
    "                frontal_images.append(path)\n",
    "\n",
    "    img['Frontal_img'] = frontal_images\n",
    "    \n",
    "    #Kitchen Image\n",
    "    kitchen_images=[]\n",
    "    for number in range(1, 536):\n",
    "        for path in glob.glob(path_images + str(number) + \"_kitchen.jpg\"):\n",
    "            if os.path.isfile(path):\n",
    "                kitchen_images.append(path)\n",
    "\n",
    "    img['Kitchen_img'] = kitchen_images\n",
    "    \n",
    "    return img\n",
    "\n",
    "\n",
    "\n",
    "def concate_images(img):\n",
    "    images_output=[]\n",
    "    for row_index,row in img.iterrows():\n",
    "        inputImages=[]\n",
    "        outputImage = np.zeros((128, 128, 3), dtype=\"uint8\")\n",
    "        image_temp1 = cv2.imread(row.Bathroom_img)\n",
    "        image1 = cv2.resize(image_temp1, (64 , 64))\n",
    "\n",
    "        image_temp2 = cv2.imread(row.Bedroom_img)\n",
    "        image2 = cv2.resize(image_temp2, (64 , 64))\n",
    "\n",
    "        image_temp3 = cv2.imread(row.Frontal_img)\n",
    "        image3 = cv2.resize(image_temp3, (64 , 64))\n",
    "\n",
    "        image_temp4 = cv2.imread(row.Kitchen_img)\n",
    "        image4 = cv2.resize(image_temp4, (64 , 64))\n",
    "\n",
    "        inputImages.append(image1)\n",
    "        inputImages.append(image2)\n",
    "        inputImages.append(image3)\n",
    "        inputImages.append(image4)\n",
    "\n",
    "        outputImage[0:64, 0:64] = inputImages[0]\n",
    "        outputImage[0:64, 64:128] = inputImages[1]\n",
    "        outputImage[64:128, 64:128] = inputImages[2]\n",
    "        outputImage[64:128, 0:64] = inputImages[3]\n",
    "\n",
    "\n",
    "        images_output.append(outputImage)\n",
    "    return images_output"
   ]
  },
  {
   "cell_type": "markdown",
   "metadata": {
    "colab_type": "text",
    "id": "lKI7KssNlgTe"
   },
   "source": [
    "## Importing Dataset"
   ]
  },
  {
   "cell_type": "code",
   "execution_count": 0,
   "metadata": {
    "colab": {},
    "colab_type": "code",
    "id": "nob3Y8oBEFRQ"
   },
   "outputs": [],
   "source": [
    "data_path = \"/content/gdrive/My Drive/MS/CSC 215/Project-3/Houses Dataset/\""
   ]
  },
  {
   "cell_type": "code",
   "execution_count": 0,
   "metadata": {
    "colab": {},
    "colab_type": "code",
    "id": "TUByiyrmBA7t"
   },
   "outputs": [],
   "source": [
    "file = os.path.join('drive/My Drive/Colab Notebooks/Houses Dataset/HousesInfo.txt')"
   ]
  },
  {
   "cell_type": "code",
   "execution_count": 0,
   "metadata": {
    "colab": {},
    "colab_type": "code",
    "id": "G2tcmsfSDoTR"
   },
   "outputs": [],
   "source": [
    "cols = ['Bedrooms', 'Bathrooms', 'Area', 'Zipcode', 'Price']"
   ]
  },
  {
   "cell_type": "code",
   "execution_count": 0,
   "metadata": {
    "colab": {},
    "colab_type": "code",
    "id": "wCQKDFAEDsoX"
   },
   "outputs": [],
   "source": [
    "data = pd.read_csv(file, sep=' ', header=None, names=cols, na_values=[None, 'NA', '-', ' '])"
   ]
  },
  {
   "cell_type": "code",
   "execution_count": 7,
   "metadata": {
    "colab": {
     "base_uri": "https://localhost:8080/",
     "height": 197
    },
    "colab_type": "code",
    "id": "cwngIeJAEZvg",
    "outputId": "527e4b1f-291d-4d90-b866-e23c89d04db6"
   },
   "outputs": [
    {
     "data": {
      "text/html": [
       "<div>\n",
       "<style scoped>\n",
       "    .dataframe tbody tr th:only-of-type {\n",
       "        vertical-align: middle;\n",
       "    }\n",
       "\n",
       "    .dataframe tbody tr th {\n",
       "        vertical-align: top;\n",
       "    }\n",
       "\n",
       "    .dataframe thead th {\n",
       "        text-align: right;\n",
       "    }\n",
       "</style>\n",
       "<table border=\"1\" class=\"dataframe\">\n",
       "  <thead>\n",
       "    <tr style=\"text-align: right;\">\n",
       "      <th></th>\n",
       "      <th>Bedrooms</th>\n",
       "      <th>Bathrooms</th>\n",
       "      <th>Area</th>\n",
       "      <th>Zipcode</th>\n",
       "      <th>Price</th>\n",
       "    </tr>\n",
       "  </thead>\n",
       "  <tbody>\n",
       "    <tr>\n",
       "      <th>0</th>\n",
       "      <td>4</td>\n",
       "      <td>4.0</td>\n",
       "      <td>4053</td>\n",
       "      <td>85255</td>\n",
       "      <td>869500</td>\n",
       "    </tr>\n",
       "    <tr>\n",
       "      <th>1</th>\n",
       "      <td>4</td>\n",
       "      <td>3.0</td>\n",
       "      <td>3343</td>\n",
       "      <td>36372</td>\n",
       "      <td>865200</td>\n",
       "    </tr>\n",
       "    <tr>\n",
       "      <th>2</th>\n",
       "      <td>3</td>\n",
       "      <td>4.0</td>\n",
       "      <td>3923</td>\n",
       "      <td>85266</td>\n",
       "      <td>889000</td>\n",
       "    </tr>\n",
       "    <tr>\n",
       "      <th>3</th>\n",
       "      <td>5</td>\n",
       "      <td>5.0</td>\n",
       "      <td>4022</td>\n",
       "      <td>85262</td>\n",
       "      <td>910000</td>\n",
       "    </tr>\n",
       "    <tr>\n",
       "      <th>4</th>\n",
       "      <td>3</td>\n",
       "      <td>4.0</td>\n",
       "      <td>4116</td>\n",
       "      <td>85266</td>\n",
       "      <td>971226</td>\n",
       "    </tr>\n",
       "  </tbody>\n",
       "</table>\n",
       "</div>"
      ],
      "text/plain": [
       "   Bedrooms  Bathrooms  Area  Zipcode   Price\n",
       "0         4        4.0  4053    85255  869500\n",
       "1         4        3.0  3343    36372  865200\n",
       "2         3        4.0  3923    85266  889000\n",
       "3         5        5.0  4022    85262  910000\n",
       "4         3        4.0  4116    85266  971226"
      ]
     },
     "execution_count": 7,
     "metadata": {
      "tags": []
     },
     "output_type": "execute_result"
    }
   ],
   "source": [
    "data.head()"
   ]
  },
  {
   "cell_type": "code",
   "execution_count": 8,
   "metadata": {
    "colab": {
     "base_uri": "https://localhost:8080/",
     "height": 33
    },
    "colab_type": "code",
    "id": "uWGFMjB0xaWn",
    "outputId": "c55fc7cd-c3d0-4c6c-f39f-abf4f58f5e39"
   },
   "outputs": [
    {
     "data": {
      "text/plain": [
       "(535, 5)"
      ]
     },
     "execution_count": 8,
     "metadata": {
      "tags": []
     },
     "output_type": "execute_result"
    }
   ],
   "source": [
    "data.shape"
   ]
  },
  {
   "cell_type": "code",
   "execution_count": 9,
   "metadata": {
    "colab": {
     "base_uri": "https://localhost:8080/",
     "height": 117
    },
    "colab_type": "code",
    "id": "IrcIiVkhxmZO",
    "outputId": "6f0f6345-d11a-4df2-8f3c-105b44ae02c1"
   },
   "outputs": [
    {
     "data": {
      "text/plain": [
       "Bedrooms     0\n",
       "Bathrooms    0\n",
       "Area         0\n",
       "Zipcode      0\n",
       "Price        0\n",
       "dtype: int64"
      ]
     },
     "execution_count": 9,
     "metadata": {
      "tags": []
     },
     "output_type": "execute_result"
    }
   ],
   "source": [
    "data.isnull().sum()"
   ]
  },
  {
   "cell_type": "markdown",
   "metadata": {
    "colab_type": "text",
    "id": "YGOBldlZlp4D"
   },
   "source": [
    "# Outliars checking"
   ]
  },
  {
   "cell_type": "code",
   "execution_count": 10,
   "metadata": {
    "colab": {
     "base_uri": "https://localhost:8080/",
     "height": 296
    },
    "colab_type": "code",
    "id": "KYXk9jZXxpX_",
    "outputId": "c0da762c-f98b-45f3-b31d-9dd8f3cd4b15"
   },
   "outputs": [
    {
     "data": {
      "text/plain": [
       "<matplotlib.axes._subplots.AxesSubplot at 0x7fcc144da400>"
      ]
     },
     "execution_count": 10,
     "metadata": {
      "tags": []
     },
     "output_type": "execute_result"
    },
    {
     "data": {
      "image/png": "[encoded data removed]",
      "text/plain": [
       "<Figure size 432x288 with 1 Axes>"
      ]
     },
     "metadata": {
      "tags": []
     },
     "output_type": "display_data"
    }
   ],
   "source": [
    "sns.boxplot(x=data['Price'])\n"
   ]
  },
  {
   "cell_type": "markdown",
   "metadata": {
    "colab_type": "text",
    "id": "TjLkxgozly5j"
   },
   "source": [
    "# Image Processing"
   ]
  },
  {
   "cell_type": "code",
   "execution_count": 0,
   "metadata": {
    "colab": {},
    "colab_type": "code",
    "id": "kvwK0hjd5FbV"
   },
   "outputs": [],
   "source": [
    "## Bathroom.jpg\n",
    "new_images=[]\n",
    "for number in range(1, 536):\n",
    "    for path in glob.glob(\"drive/My Drive/Colab Notebooks/Houses Dataset/\" + str(number) + \"_bathroom.jpg\"):\n",
    "        if os.path.isfile(path):\n",
    "            new_images.append(path)"
   ]
  },
  {
   "cell_type": "code",
   "execution_count": null,
   "metadata": {
    "colab": {
     "base_uri": "https://localhost:8080/",
     "height": 1000
    },
    "colab_type": "code",
    "id": "kKSY79CP5N1F",
    "outputId": "8e50bcc7-df29-4834-926b-688c21f15b84"
   },
   "outputs": [],
   "source": [
    "new_images"
   ]
  },
  {
   "cell_type": "code",
   "execution_count": 0,
   "metadata": {
    "colab": {},
    "colab_type": "code",
    "id": "JBXfY2q75uJG"
   },
   "outputs": [],
   "source": [
    "img= pd.DataFrame(new_images,columns = ['bathroom_img'])"
   ]
  },
  {
   "cell_type": "code",
   "execution_count": 0,
   "metadata": {
    "colab": {},
    "colab_type": "code",
    "id": "7E7mcE5450em"
   },
   "outputs": [],
   "source": [
    "## bedroom images\n",
    "bedroom_images = []\n",
    "for number in range(1, 536):\n",
    "    for path in glob.glob(\"drive/My Drive/Colab Notebooks/Houses Dataset/\" + str(number) + \"_bedroom.jpg\"):\n",
    "        if os.path.isfile(path):\n",
    "            bedroom_images.append(path) \n",
    "            \n",
    "img['bedroom_img']=bedroom_images"
   ]
  },
  {
   "cell_type": "code",
   "execution_count": 0,
   "metadata": {
    "colab": {},
    "colab_type": "code",
    "id": "f2m4bzGU52gu"
   },
   "outputs": [],
   "source": [
    "img['bedroom_img']=bedroom_images"
   ]
  },
  {
   "cell_type": "code",
   "execution_count": 0,
   "metadata": {
    "colab": {},
    "colab_type": "code",
    "id": "1ms-_aPm534m"
   },
   "outputs": [],
   "source": [
    "frontal_images = []\n",
    "for number in range(1, 536):\n",
    "    for path in glob.glob(\"drive/My Drive/Colab Notebooks/Houses Dataset/\" + str(number) + \"_frontal.jpg\"):\n",
    "        if os.path.isfile(path):\n",
    "            frontal_images.append(path) \n",
    "\n",
    "img['frontal_img']=frontal_images"
   ]
  },
  {
   "cell_type": "code",
   "execution_count": 0,
   "metadata": {
    "colab": {},
    "colab_type": "code",
    "id": "TphvuwkA8qWj"
   },
   "outputs": [],
   "source": [
    "kitchen_images = []\n",
    "for number in range(1, 536):\n",
    "    for path in glob.glob(\"drive/My Drive/Colab Notebooks/Houses Dataset/\" + str(number) + \"_kitchen.jpg\"):\n",
    "        if os.path.isfile(path):\n",
    "            kitchen_images.append(path) \n",
    "\n",
    "img['kitchen_img']=kitchen_images"
   ]
  },
  {
   "cell_type": "code",
   "execution_count": 19,
   "metadata": {
    "colab": {
     "base_uri": "https://localhost:8080/",
     "height": 33
    },
    "colab_type": "code",
    "id": "iiWebyZn8zCp",
    "outputId": "9a67e5f7-5658-405c-8931-a04c413a1179"
   },
   "outputs": [
    {
     "data": {
      "text/plain": [
       "(535, 4)"
      ]
     },
     "execution_count": 19,
     "metadata": {
      "tags": []
     },
     "output_type": "execute_result"
    }
   ],
   "source": [
    "img.shape"
   ]
  },
  {
   "cell_type": "markdown",
   "metadata": {
    "colab_type": "text",
    "id": "mfQKcFbcmAju"
   },
   "source": [
    "# Combining text and visual data "
   ]
  },
  {
   "cell_type": "code",
   "execution_count": 0,
   "metadata": {
    "colab": {},
    "colab_type": "code",
    "id": "PZGJHud_MitR"
   },
   "outputs": [],
   "source": [
    "final = pd.concat([data, img], axis=1, sort=False)"
   ]
  },
  {
   "cell_type": "code",
   "execution_count": 21,
   "metadata": {
    "colab": {
     "base_uri": "https://localhost:8080/",
     "height": 281
    },
    "colab_type": "code",
    "id": "WyFZSyzvMsJE",
    "outputId": "2d90a03e-ce10-4a01-84cb-2f4f768c4e15"
   },
   "outputs": [
    {
     "data": {
      "text/html": [
       "<div>\n",
       "<style scoped>\n",
       "    .dataframe tbody tr th:only-of-type {\n",
       "        vertical-align: middle;\n",
       "    }\n",
       "\n",
       "    .dataframe tbody tr th {\n",
       "        vertical-align: top;\n",
       "    }\n",
       "\n",
       "    .dataframe thead th {\n",
       "        text-align: right;\n",
       "    }\n",
       "</style>\n",
       "<table border=\"1\" class=\"dataframe\">\n",
       "  <thead>\n",
       "    <tr style=\"text-align: right;\">\n",
       "      <th></th>\n",
       "      <th>Bedrooms</th>\n",
       "      <th>Bathrooms</th>\n",
       "      <th>Area</th>\n",
       "      <th>Zipcode</th>\n",
       "      <th>Price</th>\n",
       "      <th>bathroom_img</th>\n",
       "      <th>bedroom_img</th>\n",
       "      <th>frontal_img</th>\n",
       "      <th>kitchen_img</th>\n",
       "    </tr>\n",
       "  </thead>\n",
       "  <tbody>\n",
       "    <tr>\n",
       "      <th>0</th>\n",
       "      <td>4</td>\n",
       "      <td>4.0</td>\n",
       "      <td>4053</td>\n",
       "      <td>85255</td>\n",
       "      <td>869500</td>\n",
       "      <td>drive/My Drive/Colab Notebooks/Houses Dataset/...</td>\n",
       "      <td>drive/My Drive/Colab Notebooks/Houses Dataset/...</td>\n",
       "      <td>drive/My Drive/Colab Notebooks/Houses Dataset/...</td>\n",
       "      <td>drive/My Drive/Colab Notebooks/Houses Dataset/...</td>\n",
       "    </tr>\n",
       "    <tr>\n",
       "      <th>1</th>\n",
       "      <td>4</td>\n",
       "      <td>3.0</td>\n",
       "      <td>3343</td>\n",
       "      <td>36372</td>\n",
       "      <td>865200</td>\n",
       "      <td>drive/My Drive/Colab Notebooks/Houses Dataset/...</td>\n",
       "      <td>drive/My Drive/Colab Notebooks/Houses Dataset/...</td>\n",
       "      <td>drive/My Drive/Colab Notebooks/Houses Dataset/...</td>\n",
       "      <td>drive/My Drive/Colab Notebooks/Houses Dataset/...</td>\n",
       "    </tr>\n",
       "    <tr>\n",
       "      <th>2</th>\n",
       "      <td>3</td>\n",
       "      <td>4.0</td>\n",
       "      <td>3923</td>\n",
       "      <td>85266</td>\n",
       "      <td>889000</td>\n",
       "      <td>drive/My Drive/Colab Notebooks/Houses Dataset/...</td>\n",
       "      <td>drive/My Drive/Colab Notebooks/Houses Dataset/...</td>\n",
       "      <td>drive/My Drive/Colab Notebooks/Houses Dataset/...</td>\n",
       "      <td>drive/My Drive/Colab Notebooks/Houses Dataset/...</td>\n",
       "    </tr>\n",
       "    <tr>\n",
       "      <th>3</th>\n",
       "      <td>5</td>\n",
       "      <td>5.0</td>\n",
       "      <td>4022</td>\n",
       "      <td>85262</td>\n",
       "      <td>910000</td>\n",
       "      <td>drive/My Drive/Colab Notebooks/Houses Dataset/...</td>\n",
       "      <td>drive/My Drive/Colab Notebooks/Houses Dataset/...</td>\n",
       "      <td>drive/My Drive/Colab Notebooks/Houses Dataset/...</td>\n",
       "      <td>drive/My Drive/Colab Notebooks/Houses Dataset/...</td>\n",
       "    </tr>\n",
       "    <tr>\n",
       "      <th>4</th>\n",
       "      <td>3</td>\n",
       "      <td>4.0</td>\n",
       "      <td>4116</td>\n",
       "      <td>85266</td>\n",
       "      <td>971226</td>\n",
       "      <td>drive/My Drive/Colab Notebooks/Houses Dataset/...</td>\n",
       "      <td>drive/My Drive/Colab Notebooks/Houses Dataset/...</td>\n",
       "      <td>drive/My Drive/Colab Notebooks/Houses Dataset/...</td>\n",
       "      <td>drive/My Drive/Colab Notebooks/Houses Dataset/...</td>\n",
       "    </tr>\n",
       "  </tbody>\n",
       "</table>\n",
       "</div>"
      ],
      "text/plain": [
       "   Bedrooms  ...                                        kitchen_img\n",
       "0         4  ...  drive/My Drive/Colab Notebooks/Houses Dataset/...\n",
       "1         4  ...  drive/My Drive/Colab Notebooks/Houses Dataset/...\n",
       "2         3  ...  drive/My Drive/Colab Notebooks/Houses Dataset/...\n",
       "3         5  ...  drive/My Drive/Colab Notebooks/Houses Dataset/...\n",
       "4         3  ...  drive/My Drive/Colab Notebooks/Houses Dataset/...\n",
       "\n",
       "[5 rows x 9 columns]"
      ]
     },
     "execution_count": 21,
     "metadata": {
      "tags": []
     },
     "output_type": "execute_result"
    }
   ],
   "source": [
    "final.head()"
   ]
  },
  {
   "cell_type": "code",
   "execution_count": 22,
   "metadata": {
    "colab": {
     "base_uri": "https://localhost:8080/",
     "height": 573
    },
    "colab_type": "code",
    "id": "GavN6vbKMsN6",
    "outputId": "dbbdae47-e21c-4a66-8cce-2fb315a51af2"
   },
   "outputs": [
    {
     "data": {
      "text/html": [
       "<div>\n",
       "<style scoped>\n",
       "    .dataframe tbody tr th:only-of-type {\n",
       "        vertical-align: middle;\n",
       "    }\n",
       "\n",
       "    .dataframe tbody tr th {\n",
       "        vertical-align: top;\n",
       "    }\n",
       "\n",
       "    .dataframe thead th {\n",
       "        text-align: right;\n",
       "    }\n",
       "</style>\n",
       "<table border=\"1\" class=\"dataframe\">\n",
       "  <thead>\n",
       "    <tr style=\"text-align: right;\">\n",
       "      <th></th>\n",
       "      <th>Bedrooms</th>\n",
       "      <th>Bathrooms</th>\n",
       "      <th>Area</th>\n",
       "      <th>Zipcode</th>\n",
       "      <th>Price</th>\n",
       "      <th>bathroom_img</th>\n",
       "      <th>bedroom_img</th>\n",
       "      <th>frontal_img</th>\n",
       "      <th>kitchen_img</th>\n",
       "    </tr>\n",
       "  </thead>\n",
       "  <tbody>\n",
       "    <tr>\n",
       "      <th>0</th>\n",
       "      <td>4</td>\n",
       "      <td>4.0</td>\n",
       "      <td>4053</td>\n",
       "      <td>85255</td>\n",
       "      <td>869500</td>\n",
       "      <td>drive/My Drive/Colab Notebooks/Houses Dataset/...</td>\n",
       "      <td>drive/My Drive/Colab Notebooks/Houses Dataset/...</td>\n",
       "      <td>drive/My Drive/Colab Notebooks/Houses Dataset/...</td>\n",
       "      <td>drive/My Drive/Colab Notebooks/Houses Dataset/...</td>\n",
       "    </tr>\n",
       "    <tr>\n",
       "      <th>1</th>\n",
       "      <td>4</td>\n",
       "      <td>3.0</td>\n",
       "      <td>3343</td>\n",
       "      <td>36372</td>\n",
       "      <td>865200</td>\n",
       "      <td>drive/My Drive/Colab Notebooks/Houses Dataset/...</td>\n",
       "      <td>drive/My Drive/Colab Notebooks/Houses Dataset/...</td>\n",
       "      <td>drive/My Drive/Colab Notebooks/Houses Dataset/...</td>\n",
       "      <td>drive/My Drive/Colab Notebooks/Houses Dataset/...</td>\n",
       "    </tr>\n",
       "    <tr>\n",
       "      <th>2</th>\n",
       "      <td>3</td>\n",
       "      <td>4.0</td>\n",
       "      <td>3923</td>\n",
       "      <td>85266</td>\n",
       "      <td>889000</td>\n",
       "      <td>drive/My Drive/Colab Notebooks/Houses Dataset/...</td>\n",
       "      <td>drive/My Drive/Colab Notebooks/Houses Dataset/...</td>\n",
       "      <td>drive/My Drive/Colab Notebooks/Houses Dataset/...</td>\n",
       "      <td>drive/My Drive/Colab Notebooks/Houses Dataset/...</td>\n",
       "    </tr>\n",
       "    <tr>\n",
       "      <th>6</th>\n",
       "      <td>3</td>\n",
       "      <td>4.0</td>\n",
       "      <td>2544</td>\n",
       "      <td>85262</td>\n",
       "      <td>799000</td>\n",
       "      <td>drive/My Drive/Colab Notebooks/Houses Dataset/...</td>\n",
       "      <td>drive/My Drive/Colab Notebooks/Houses Dataset/...</td>\n",
       "      <td>drive/My Drive/Colab Notebooks/Houses Dataset/...</td>\n",
       "      <td>drive/My Drive/Colab Notebooks/Houses Dataset/...</td>\n",
       "    </tr>\n",
       "    <tr>\n",
       "      <th>10</th>\n",
       "      <td>5</td>\n",
       "      <td>5.0</td>\n",
       "      <td>4829</td>\n",
       "      <td>85266</td>\n",
       "      <td>519200</td>\n",
       "      <td>drive/My Drive/Colab Notebooks/Houses Dataset/...</td>\n",
       "      <td>drive/My Drive/Colab Notebooks/Houses Dataset/...</td>\n",
       "      <td>drive/My Drive/Colab Notebooks/Houses Dataset/...</td>\n",
       "      <td>drive/My Drive/Colab Notebooks/Houses Dataset/...</td>\n",
       "    </tr>\n",
       "    <tr>\n",
       "      <th>...</th>\n",
       "      <td>...</td>\n",
       "      <td>...</td>\n",
       "      <td>...</td>\n",
       "      <td>...</td>\n",
       "      <td>...</td>\n",
       "      <td>...</td>\n",
       "      <td>...</td>\n",
       "      <td>...</td>\n",
       "      <td>...</td>\n",
       "    </tr>\n",
       "    <tr>\n",
       "      <th>530</th>\n",
       "      <td>5</td>\n",
       "      <td>2.0</td>\n",
       "      <td>2066</td>\n",
       "      <td>94531</td>\n",
       "      <td>399900</td>\n",
       "      <td>drive/My Drive/Colab Notebooks/Houses Dataset/...</td>\n",
       "      <td>drive/My Drive/Colab Notebooks/Houses Dataset/...</td>\n",
       "      <td>drive/My Drive/Colab Notebooks/Houses Dataset/...</td>\n",
       "      <td>drive/My Drive/Colab Notebooks/Houses Dataset/...</td>\n",
       "    </tr>\n",
       "    <tr>\n",
       "      <th>531</th>\n",
       "      <td>4</td>\n",
       "      <td>3.5</td>\n",
       "      <td>9536</td>\n",
       "      <td>94531</td>\n",
       "      <td>460000</td>\n",
       "      <td>drive/My Drive/Colab Notebooks/Houses Dataset/...</td>\n",
       "      <td>drive/My Drive/Colab Notebooks/Houses Dataset/...</td>\n",
       "      <td>drive/My Drive/Colab Notebooks/Houses Dataset/...</td>\n",
       "      <td>drive/My Drive/Colab Notebooks/Houses Dataset/...</td>\n",
       "    </tr>\n",
       "    <tr>\n",
       "      <th>532</th>\n",
       "      <td>3</td>\n",
       "      <td>2.0</td>\n",
       "      <td>2014</td>\n",
       "      <td>94531</td>\n",
       "      <td>407000</td>\n",
       "      <td>drive/My Drive/Colab Notebooks/Houses Dataset/...</td>\n",
       "      <td>drive/My Drive/Colab Notebooks/Houses Dataset/...</td>\n",
       "      <td>drive/My Drive/Colab Notebooks/Houses Dataset/...</td>\n",
       "      <td>drive/My Drive/Colab Notebooks/Houses Dataset/...</td>\n",
       "    </tr>\n",
       "    <tr>\n",
       "      <th>533</th>\n",
       "      <td>4</td>\n",
       "      <td>3.0</td>\n",
       "      <td>2312</td>\n",
       "      <td>94531</td>\n",
       "      <td>419000</td>\n",
       "      <td>drive/My Drive/Colab Notebooks/Houses Dataset/...</td>\n",
       "      <td>drive/My Drive/Colab Notebooks/Houses Dataset/...</td>\n",
       "      <td>drive/My Drive/Colab Notebooks/Houses Dataset/...</td>\n",
       "      <td>drive/My Drive/Colab Notebooks/Houses Dataset/...</td>\n",
       "    </tr>\n",
       "    <tr>\n",
       "      <th>534</th>\n",
       "      <td>5</td>\n",
       "      <td>3.0</td>\n",
       "      <td>3796</td>\n",
       "      <td>94531</td>\n",
       "      <td>615000</td>\n",
       "      <td>drive/My Drive/Colab Notebooks/Houses Dataset/...</td>\n",
       "      <td>drive/My Drive/Colab Notebooks/Houses Dataset/...</td>\n",
       "      <td>drive/My Drive/Colab Notebooks/Houses Dataset/...</td>\n",
       "      <td>drive/My Drive/Colab Notebooks/Houses Dataset/...</td>\n",
       "    </tr>\n",
       "  </tbody>\n",
       "</table>\n",
       "<p>406 rows × 9 columns</p>\n",
       "</div>"
      ],
      "text/plain": [
       "     Bedrooms  ...                                        kitchen_img\n",
       "0           4  ...  drive/My Drive/Colab Notebooks/Houses Dataset/...\n",
       "1           4  ...  drive/My Drive/Colab Notebooks/Houses Dataset/...\n",
       "2           3  ...  drive/My Drive/Colab Notebooks/Houses Dataset/...\n",
       "6           3  ...  drive/My Drive/Colab Notebooks/Houses Dataset/...\n",
       "10          5  ...  drive/My Drive/Colab Notebooks/Houses Dataset/...\n",
       "..        ...  ...                                                ...\n",
       "530         5  ...  drive/My Drive/Colab Notebooks/Houses Dataset/...\n",
       "531         4  ...  drive/My Drive/Colab Notebooks/Houses Dataset/...\n",
       "532         3  ...  drive/My Drive/Colab Notebooks/Houses Dataset/...\n",
       "533         4  ...  drive/My Drive/Colab Notebooks/Houses Dataset/...\n",
       "534         5  ...  drive/My Drive/Colab Notebooks/Houses Dataset/...\n",
       "\n",
       "[406 rows x 9 columns]"
      ]
     },
     "execution_count": 22,
     "metadata": {
      "tags": []
     },
     "output_type": "execute_result"
    }
   ],
   "source": [
    "result = final[final['Price'] >=100000] \n",
    "result = result[result['Price'] <=900000] \n",
    "\n",
    "result"
   ]
  },
  {
   "cell_type": "code",
   "execution_count": 23,
   "metadata": {
    "colab": {
     "base_uri": "https://localhost:8080/",
     "height": 197
    },
    "colab_type": "code",
    "id": "AvcplRw8NVmu",
    "outputId": "3e28248e-4899-4a59-c017-af50b6ca2e98"
   },
   "outputs": [
    {
     "data": {
      "text/html": [
       "<div>\n",
       "<style scoped>\n",
       "    .dataframe tbody tr th:only-of-type {\n",
       "        vertical-align: middle;\n",
       "    }\n",
       "\n",
       "    .dataframe tbody tr th {\n",
       "        vertical-align: top;\n",
       "    }\n",
       "\n",
       "    .dataframe thead th {\n",
       "        text-align: right;\n",
       "    }\n",
       "</style>\n",
       "<table border=\"1\" class=\"dataframe\">\n",
       "  <thead>\n",
       "    <tr style=\"text-align: right;\">\n",
       "      <th></th>\n",
       "      <th>bathroom_img</th>\n",
       "      <th>bedroom_img</th>\n",
       "      <th>frontal_img</th>\n",
       "      <th>kitchen_img</th>\n",
       "    </tr>\n",
       "  </thead>\n",
       "  <tbody>\n",
       "    <tr>\n",
       "      <th>0</th>\n",
       "      <td>drive/My Drive/Colab Notebooks/Houses Dataset/...</td>\n",
       "      <td>drive/My Drive/Colab Notebooks/Houses Dataset/...</td>\n",
       "      <td>drive/My Drive/Colab Notebooks/Houses Dataset/...</td>\n",
       "      <td>drive/My Drive/Colab Notebooks/Houses Dataset/...</td>\n",
       "    </tr>\n",
       "    <tr>\n",
       "      <th>1</th>\n",
       "      <td>drive/My Drive/Colab Notebooks/Houses Dataset/...</td>\n",
       "      <td>drive/My Drive/Colab Notebooks/Houses Dataset/...</td>\n",
       "      <td>drive/My Drive/Colab Notebooks/Houses Dataset/...</td>\n",
       "      <td>drive/My Drive/Colab Notebooks/Houses Dataset/...</td>\n",
       "    </tr>\n",
       "    <tr>\n",
       "      <th>2</th>\n",
       "      <td>drive/My Drive/Colab Notebooks/Houses Dataset/...</td>\n",
       "      <td>drive/My Drive/Colab Notebooks/Houses Dataset/...</td>\n",
       "      <td>drive/My Drive/Colab Notebooks/Houses Dataset/...</td>\n",
       "      <td>drive/My Drive/Colab Notebooks/Houses Dataset/...</td>\n",
       "    </tr>\n",
       "    <tr>\n",
       "      <th>6</th>\n",
       "      <td>drive/My Drive/Colab Notebooks/Houses Dataset/...</td>\n",
       "      <td>drive/My Drive/Colab Notebooks/Houses Dataset/...</td>\n",
       "      <td>drive/My Drive/Colab Notebooks/Houses Dataset/...</td>\n",
       "      <td>drive/My Drive/Colab Notebooks/Houses Dataset/...</td>\n",
       "    </tr>\n",
       "    <tr>\n",
       "      <th>10</th>\n",
       "      <td>drive/My Drive/Colab Notebooks/Houses Dataset/...</td>\n",
       "      <td>drive/My Drive/Colab Notebooks/Houses Dataset/...</td>\n",
       "      <td>drive/My Drive/Colab Notebooks/Houses Dataset/...</td>\n",
       "      <td>drive/My Drive/Colab Notebooks/Houses Dataset/...</td>\n",
       "    </tr>\n",
       "  </tbody>\n",
       "</table>\n",
       "</div>"
      ],
      "text/plain": [
       "                                         bathroom_img  ...                                        kitchen_img\n",
       "0   drive/My Drive/Colab Notebooks/Houses Dataset/...  ...  drive/My Drive/Colab Notebooks/Houses Dataset/...\n",
       "1   drive/My Drive/Colab Notebooks/Houses Dataset/...  ...  drive/My Drive/Colab Notebooks/Houses Dataset/...\n",
       "2   drive/My Drive/Colab Notebooks/Houses Dataset/...  ...  drive/My Drive/Colab Notebooks/Houses Dataset/...\n",
       "6   drive/My Drive/Colab Notebooks/Houses Dataset/...  ...  drive/My Drive/Colab Notebooks/Houses Dataset/...\n",
       "10  drive/My Drive/Colab Notebooks/Houses Dataset/...  ...  drive/My Drive/Colab Notebooks/Houses Dataset/...\n",
       "\n",
       "[5 rows x 4 columns]"
      ]
     },
     "execution_count": 23,
     "metadata": {
      "tags": []
     },
     "output_type": "execute_result"
    }
   ],
   "source": [
    "img = result.drop(columns =['Bedrooms',\t'Bathrooms',\t'Area',\t'Zipcode',\t'Price'], inplace = False) \n",
    "img.head()"
   ]
  },
  {
   "cell_type": "code",
   "execution_count": 24,
   "metadata": {
    "colab": {
     "base_uri": "https://localhost:8080/",
     "height": 33
    },
    "colab_type": "code",
    "id": "Nn85xVbQPqNf",
    "outputId": "1e159b44-9521-40b3-e94b-410c85d42fab"
   },
   "outputs": [
    {
     "data": {
      "text/plain": [
       "(406, 4)"
      ]
     },
     "execution_count": 24,
     "metadata": {
      "tags": []
     },
     "output_type": "execute_result"
    }
   ],
   "source": [
    "img.shape"
   ]
  },
  {
   "cell_type": "code",
   "execution_count": 25,
   "metadata": {
    "colab": {
     "base_uri": "https://localhost:8080/",
     "height": 197
    },
    "colab_type": "code",
    "id": "bofQ4K5bNVqK",
    "outputId": "acb24018-72bc-4ddf-9cc3-a1379702cf97"
   },
   "outputs": [
    {
     "data": {
      "text/html": [
       "<div>\n",
       "<style scoped>\n",
       "    .dataframe tbody tr th:only-of-type {\n",
       "        vertical-align: middle;\n",
       "    }\n",
       "\n",
       "    .dataframe tbody tr th {\n",
       "        vertical-align: top;\n",
       "    }\n",
       "\n",
       "    .dataframe thead th {\n",
       "        text-align: right;\n",
       "    }\n",
       "</style>\n",
       "<table border=\"1\" class=\"dataframe\">\n",
       "  <thead>\n",
       "    <tr style=\"text-align: right;\">\n",
       "      <th></th>\n",
       "      <th>Bedrooms</th>\n",
       "      <th>Bathrooms</th>\n",
       "      <th>Area</th>\n",
       "      <th>Zipcode</th>\n",
       "      <th>Price</th>\n",
       "    </tr>\n",
       "  </thead>\n",
       "  <tbody>\n",
       "    <tr>\n",
       "      <th>0</th>\n",
       "      <td>4</td>\n",
       "      <td>4.0</td>\n",
       "      <td>4053</td>\n",
       "      <td>85255</td>\n",
       "      <td>869500</td>\n",
       "    </tr>\n",
       "    <tr>\n",
       "      <th>1</th>\n",
       "      <td>4</td>\n",
       "      <td>3.0</td>\n",
       "      <td>3343</td>\n",
       "      <td>36372</td>\n",
       "      <td>865200</td>\n",
       "    </tr>\n",
       "    <tr>\n",
       "      <th>2</th>\n",
       "      <td>3</td>\n",
       "      <td>4.0</td>\n",
       "      <td>3923</td>\n",
       "      <td>85266</td>\n",
       "      <td>889000</td>\n",
       "    </tr>\n",
       "    <tr>\n",
       "      <th>6</th>\n",
       "      <td>3</td>\n",
       "      <td>4.0</td>\n",
       "      <td>2544</td>\n",
       "      <td>85262</td>\n",
       "      <td>799000</td>\n",
       "    </tr>\n",
       "    <tr>\n",
       "      <th>10</th>\n",
       "      <td>5</td>\n",
       "      <td>5.0</td>\n",
       "      <td>4829</td>\n",
       "      <td>85266</td>\n",
       "      <td>519200</td>\n",
       "    </tr>\n",
       "  </tbody>\n",
       "</table>\n",
       "</div>"
      ],
      "text/plain": [
       "    Bedrooms  Bathrooms  Area  Zipcode   Price\n",
       "0          4        4.0  4053    85255  869500\n",
       "1          4        3.0  3343    36372  865200\n",
       "2          3        4.0  3923    85266  889000\n",
       "6          3        4.0  2544    85262  799000\n",
       "10         5        5.0  4829    85266  519200"
      ]
     },
     "execution_count": 25,
     "metadata": {
      "tags": []
     },
     "output_type": "execute_result"
    }
   ],
   "source": [
    "text = result.drop(columns =['bathroom_img',\t'bedroom_img',\t'frontal_img',\t'kitchen_img'], inplace = False) \n",
    "text.head()"
   ]
  },
  {
   "cell_type": "markdown",
   "metadata": {
    "colab_type": "text",
    "id": "nKL20gOf0WVf"
   },
   "source": [
    "# Combining text and visual data "
   ]
  },
  {
   "cell_type": "code",
   "execution_count": 0,
   "metadata": {
    "colab": {},
    "colab_type": "code",
    "id": "g2HdkwDx9JHx"
   },
   "outputs": [],
   "source": [
    "images_output=[]\n",
    "for row_index,row in img.iterrows():\n",
    "            inputImages=[]\n",
    "            outputImage = np.zeros((128, 128, 3), dtype=\"uint8\")\n",
    "            image_temp1 = cv2.imread(row.bathroom_img)\n",
    "            image1 = cv2.resize(image_temp1, (64 , 64))\n",
    "            \n",
    "            image_temp2 = cv2.imread(row.bedroom_img)\n",
    "            image2 = cv2.resize(image_temp2, (64 , 64))\n",
    "            \n",
    "            image_temp3 = cv2.imread(row.frontal_img)\n",
    "            image3 = cv2.resize(image_temp3, (64 , 64))\n",
    "            \n",
    "            image_temp4 = cv2.imread(row.kitchen_img)\n",
    "            image4 = cv2.resize(image_temp4, (64 , 64))\n",
    "              \n",
    "            inputImages.append(image1)\n",
    "            inputImages.append(image2)\n",
    "            inputImages.append(image3)\n",
    "            inputImages.append(image4)\n",
    "            \n",
    "            outputImage[0:64, 0:64] = inputImages[0]\n",
    "            outputImage[0:64, 64:128] = inputImages[1]\n",
    "            outputImage[64:128, 64:128] = inputImages[2]\n",
    "            outputImage[64:128, 0:64] = inputImages[3]\n",
    "            \n",
    "        \n",
    "            images_output.append(outputImage)      "
   ]
  },
  {
   "cell_type": "code",
   "execution_count": null,
   "metadata": {
    "colab": {
     "base_uri": "https://localhost:8080/",
     "height": 1000
    },
    "colab_type": "code",
    "id": "rTH3SP9bA8Vf",
    "outputId": "7e16021f-a7ee-4078-96f9-2cefb673adee"
   },
   "outputs": [],
   "source": [
    "for i in images_output:\n",
    "     plt.figure(figsize=(8,8))\n",
    "     plt.imshow(i, interpolation='nearest')\n",
    "     plt.show()"
   ]
  },
  {
   "cell_type": "code",
   "execution_count": 0,
   "metadata": {
    "colab": {},
    "colab_type": "code",
    "id": "l_lgsP-BE1RJ"
   },
   "outputs": [],
   "source": [
    "img_arr=np.asarray(images_output)"
   ]
  },
  {
   "cell_type": "code",
   "execution_count": 29,
   "metadata": {
    "colab": {
     "base_uri": "https://localhost:8080/",
     "height": 33
    },
    "colab_type": "code",
    "id": "Q4m048OPFiPF",
    "outputId": "717eb9bf-d379-450d-f934-15b77484f52b"
   },
   "outputs": [
    {
     "data": {
      "text/plain": [
       "(406, 128, 128, 3)"
      ]
     },
     "execution_count": 29,
     "metadata": {
      "tags": []
     },
     "output_type": "execute_result"
    }
   ],
   "source": [
    "img_arr.shape"
   ]
  },
  {
   "cell_type": "code",
   "execution_count": 30,
   "metadata": {
    "colab": {
     "base_uri": "https://localhost:8080/",
     "height": 33
    },
    "colab_type": "code",
    "id": "XReIKHceJkDB",
    "outputId": "904612ce-5b88-48a9-8f3e-39791e5b0268"
   },
   "outputs": [
    {
     "data": {
      "text/plain": [
       "((406, 5), (406, 128, 128, 3))"
      ]
     },
     "execution_count": 30,
     "metadata": {
      "tags": []
     },
     "output_type": "execute_result"
    }
   ],
   "source": [
    "text.shape, img_arr.shape"
   ]
  },
  {
   "cell_type": "code",
   "execution_count": 0,
   "metadata": {
    "colab": {},
    "colab_type": "code",
    "id": "47JyRupyEySe"
   },
   "outputs": [],
   "source": [
    "text_y = pd.DataFrame()\n",
    "text_y['Price'] = text['Price']"
   ]
  },
  {
   "cell_type": "code",
   "execution_count": 0,
   "metadata": {
    "colab": {},
    "colab_type": "code",
    "id": "kzPdrRw-E551"
   },
   "outputs": [],
   "source": [
    "text_x = text.drop(columns=['Price'], inplace=False)"
   ]
  },
  {
   "cell_type": "code",
   "execution_count": 33,
   "metadata": {
    "colab": {
     "base_uri": "https://localhost:8080/",
     "height": 197
    },
    "colab_type": "code",
    "id": "M-TCBY_uE-Ml",
    "outputId": "5775639d-d432-4b37-bfc4-929e5908440c"
   },
   "outputs": [
    {
     "data": {
      "text/html": [
       "<div>\n",
       "<style scoped>\n",
       "    .dataframe tbody tr th:only-of-type {\n",
       "        vertical-align: middle;\n",
       "    }\n",
       "\n",
       "    .dataframe tbody tr th {\n",
       "        vertical-align: top;\n",
       "    }\n",
       "\n",
       "    .dataframe thead th {\n",
       "        text-align: right;\n",
       "    }\n",
       "</style>\n",
       "<table border=\"1\" class=\"dataframe\">\n",
       "  <thead>\n",
       "    <tr style=\"text-align: right;\">\n",
       "      <th></th>\n",
       "      <th>Bedrooms</th>\n",
       "      <th>Bathrooms</th>\n",
       "      <th>Area</th>\n",
       "      <th>Zipcode</th>\n",
       "    </tr>\n",
       "  </thead>\n",
       "  <tbody>\n",
       "    <tr>\n",
       "      <th>0</th>\n",
       "      <td>4</td>\n",
       "      <td>4.0</td>\n",
       "      <td>4053</td>\n",
       "      <td>85255</td>\n",
       "    </tr>\n",
       "    <tr>\n",
       "      <th>1</th>\n",
       "      <td>4</td>\n",
       "      <td>3.0</td>\n",
       "      <td>3343</td>\n",
       "      <td>36372</td>\n",
       "    </tr>\n",
       "    <tr>\n",
       "      <th>2</th>\n",
       "      <td>3</td>\n",
       "      <td>4.0</td>\n",
       "      <td>3923</td>\n",
       "      <td>85266</td>\n",
       "    </tr>\n",
       "    <tr>\n",
       "      <th>6</th>\n",
       "      <td>3</td>\n",
       "      <td>4.0</td>\n",
       "      <td>2544</td>\n",
       "      <td>85262</td>\n",
       "    </tr>\n",
       "    <tr>\n",
       "      <th>10</th>\n",
       "      <td>5</td>\n",
       "      <td>5.0</td>\n",
       "      <td>4829</td>\n",
       "      <td>85266</td>\n",
       "    </tr>\n",
       "  </tbody>\n",
       "</table>\n",
       "</div>"
      ],
      "text/plain": [
       "    Bedrooms  Bathrooms  Area  Zipcode\n",
       "0          4        4.0  4053    85255\n",
       "1          4        3.0  3343    36372\n",
       "2          3        4.0  3923    85266\n",
       "6          3        4.0  2544    85262\n",
       "10         5        5.0  4829    85266"
      ]
     },
     "execution_count": 33,
     "metadata": {
      "tags": []
     },
     "output_type": "execute_result"
    }
   ],
   "source": [
    "text_x.head()"
   ]
  },
  {
   "cell_type": "code",
   "execution_count": 34,
   "metadata": {
    "colab": {
     "base_uri": "https://localhost:8080/",
     "height": 197
    },
    "colab_type": "code",
    "id": "bmpeh09gFCA-",
    "outputId": "5ec8f46f-299f-4bcf-c343-a3a8aebcfd82"
   },
   "outputs": [
    {
     "data": {
      "text/html": [
       "<div>\n",
       "<style scoped>\n",
       "    .dataframe tbody tr th:only-of-type {\n",
       "        vertical-align: middle;\n",
       "    }\n",
       "\n",
       "    .dataframe tbody tr th {\n",
       "        vertical-align: top;\n",
       "    }\n",
       "\n",
       "    .dataframe thead th {\n",
       "        text-align: right;\n",
       "    }\n",
       "</style>\n",
       "<table border=\"1\" class=\"dataframe\">\n",
       "  <thead>\n",
       "    <tr style=\"text-align: right;\">\n",
       "      <th></th>\n",
       "      <th>Price</th>\n",
       "    </tr>\n",
       "  </thead>\n",
       "  <tbody>\n",
       "    <tr>\n",
       "      <th>0</th>\n",
       "      <td>869500</td>\n",
       "    </tr>\n",
       "    <tr>\n",
       "      <th>1</th>\n",
       "      <td>865200</td>\n",
       "    </tr>\n",
       "    <tr>\n",
       "      <th>2</th>\n",
       "      <td>889000</td>\n",
       "    </tr>\n",
       "    <tr>\n",
       "      <th>6</th>\n",
       "      <td>799000</td>\n",
       "    </tr>\n",
       "    <tr>\n",
       "      <th>10</th>\n",
       "      <td>519200</td>\n",
       "    </tr>\n",
       "  </tbody>\n",
       "</table>\n",
       "</div>"
      ],
      "text/plain": [
       "     Price\n",
       "0   869500\n",
       "1   865200\n",
       "2   889000\n",
       "6   799000\n",
       "10  519200"
      ]
     },
     "execution_count": 34,
     "metadata": {
      "tags": []
     },
     "output_type": "execute_result"
    }
   ],
   "source": [
    "text_y.head()"
   ]
  },
  {
   "cell_type": "code",
   "execution_count": 0,
   "metadata": {
    "colab": {},
    "colab_type": "code",
    "id": "-Mzb6Z06FDyo"
   },
   "outputs": [],
   "source": [
    "encode_numeric_zscore(text_x,'Area')"
   ]
  },
  {
   "cell_type": "code",
   "execution_count": 36,
   "metadata": {
    "colab": {
     "base_uri": "https://localhost:8080/",
     "height": 33
    },
    "colab_type": "code",
    "id": "VOFkx4FKF4v9",
    "outputId": "4128d461-6078-4e41-9904-60641be5e0dc"
   },
   "outputs": [
    {
     "data": {
      "text/plain": [
       "(406, 4)"
      ]
     },
     "execution_count": 36,
     "metadata": {
      "tags": []
     },
     "output_type": "execute_result"
    }
   ],
   "source": [
    "text_x.shape"
   ]
  },
  {
   "cell_type": "code",
   "execution_count": 0,
   "metadata": {
    "colab": {},
    "colab_type": "code",
    "id": "3Cb0xJvIJunO"
   },
   "outputs": [],
   "source": [
    "encode_text_dummy(text_x,'Bedrooms')\n",
    "encode_text_dummy(text_x,'Bathrooms')\n",
    "encode_text_dummy(text_x,'Zipcode')"
   ]
  },
  {
   "cell_type": "code",
   "execution_count": 38,
   "metadata": {
    "colab": {
     "base_uri": "https://localhost:8080/",
     "height": 33
    },
    "colab_type": "code",
    "id": "8jFjXhA_Jyro",
    "outputId": "edd36b9c-52d7-4e25-fa6a-77265846ea7b"
   },
   "outputs": [
    {
     "data": {
      "text/plain": [
       "(406, 61)"
      ]
     },
     "execution_count": 38,
     "metadata": {
      "tags": []
     },
     "output_type": "execute_result"
    }
   ],
   "source": [
    "text_x.shape"
   ]
  },
  {
   "cell_type": "code",
   "execution_count": 39,
   "metadata": {
    "colab": {
     "base_uri": "https://localhost:8080/",
     "height": 234
    },
    "colab_type": "code",
    "id": "y532OQFtJ0Zn",
    "outputId": "9ca41ed6-9669-4ab6-9e10-83cbc0d77aa9"
   },
   "outputs": [
    {
     "data": {
      "text/html": [
       "<div>\n",
       "<style scoped>\n",
       "    .dataframe tbody tr th:only-of-type {\n",
       "        vertical-align: middle;\n",
       "    }\n",
       "\n",
       "    .dataframe tbody tr th {\n",
       "        vertical-align: top;\n",
       "    }\n",
       "\n",
       "    .dataframe thead th {\n",
       "        text-align: right;\n",
       "    }\n",
       "</style>\n",
       "<table border=\"1\" class=\"dataframe\">\n",
       "  <thead>\n",
       "    <tr style=\"text-align: right;\">\n",
       "      <th></th>\n",
       "      <th>Area</th>\n",
       "      <th>Bedrooms-1</th>\n",
       "      <th>Bedrooms-2</th>\n",
       "      <th>Bedrooms-3</th>\n",
       "      <th>Bedrooms-4</th>\n",
       "      <th>Bedrooms-5</th>\n",
       "      <th>Bedrooms-6</th>\n",
       "      <th>Bedrooms-7</th>\n",
       "      <th>Bedrooms-8</th>\n",
       "      <th>Bedrooms-10</th>\n",
       "      <th>Bathrooms-1.0</th>\n",
       "      <th>Bathrooms-1.5</th>\n",
       "      <th>Bathrooms-2.0</th>\n",
       "      <th>Bathrooms-2.5</th>\n",
       "      <th>Bathrooms-3.0</th>\n",
       "      <th>Bathrooms-3.25</th>\n",
       "      <th>Bathrooms-3.5</th>\n",
       "      <th>Bathrooms-4.0</th>\n",
       "      <th>Bathrooms-4.5</th>\n",
       "      <th>Bathrooms-5.0</th>\n",
       "      <th>Bathrooms-6.0</th>\n",
       "      <th>Zipcode-36372</th>\n",
       "      <th>Zipcode-60002</th>\n",
       "      <th>Zipcode-60016</th>\n",
       "      <th>Zipcode-60046</th>\n",
       "      <th>Zipcode-62025</th>\n",
       "      <th>Zipcode-62034</th>\n",
       "      <th>Zipcode-62088</th>\n",
       "      <th>Zipcode-62214</th>\n",
       "      <th>Zipcode-62234</th>\n",
       "      <th>Zipcode-62249</th>\n",
       "      <th>Zipcode-81418</th>\n",
       "      <th>Zipcode-81521</th>\n",
       "      <th>Zipcode-81524</th>\n",
       "      <th>Zipcode-85255</th>\n",
       "      <th>Zipcode-85262</th>\n",
       "      <th>Zipcode-85266</th>\n",
       "      <th>Zipcode-85331</th>\n",
       "      <th>Zipcode-91752</th>\n",
       "      <th>Zipcode-91901</th>\n",
       "      <th>Zipcode-91915</th>\n",
       "      <th>Zipcode-92021</th>\n",
       "      <th>Zipcode-92253</th>\n",
       "      <th>Zipcode-92276</th>\n",
       "      <th>Zipcode-92543</th>\n",
       "      <th>Zipcode-92677</th>\n",
       "      <th>Zipcode-92692</th>\n",
       "      <th>Zipcode-92802</th>\n",
       "      <th>Zipcode-92880</th>\n",
       "      <th>Zipcode-93105</th>\n",
       "      <th>Zipcode-93111</th>\n",
       "      <th>Zipcode-93314</th>\n",
       "      <th>Zipcode-93446</th>\n",
       "      <th>Zipcode-93510</th>\n",
       "      <th>Zipcode-94501</th>\n",
       "      <th>Zipcode-94531</th>\n",
       "      <th>Zipcode-94565</th>\n",
       "      <th>Zipcode-94568</th>\n",
       "      <th>Zipcode-95220</th>\n",
       "      <th>Zipcode-96019</th>\n",
       "      <th>Zipcode-98021</th>\n",
       "    </tr>\n",
       "  </thead>\n",
       "  <tbody>\n",
       "    <tr>\n",
       "      <th>0</th>\n",
       "      <td>1.541416</td>\n",
       "      <td>0</td>\n",
       "      <td>0</td>\n",
       "      <td>0</td>\n",
       "      <td>1</td>\n",
       "      <td>0</td>\n",
       "      <td>0</td>\n",
       "      <td>0</td>\n",
       "      <td>0</td>\n",
       "      <td>0</td>\n",
       "      <td>0</td>\n",
       "      <td>0</td>\n",
       "      <td>0</td>\n",
       "      <td>0</td>\n",
       "      <td>0</td>\n",
       "      <td>0</td>\n",
       "      <td>0</td>\n",
       "      <td>1</td>\n",
       "      <td>0</td>\n",
       "      <td>0</td>\n",
       "      <td>0</td>\n",
       "      <td>0</td>\n",
       "      <td>0</td>\n",
       "      <td>0</td>\n",
       "      <td>0</td>\n",
       "      <td>0</td>\n",
       "      <td>0</td>\n",
       "      <td>0</td>\n",
       "      <td>0</td>\n",
       "      <td>0</td>\n",
       "      <td>0</td>\n",
       "      <td>0</td>\n",
       "      <td>0</td>\n",
       "      <td>0</td>\n",
       "      <td>1</td>\n",
       "      <td>0</td>\n",
       "      <td>0</td>\n",
       "      <td>0</td>\n",
       "      <td>0</td>\n",
       "      <td>0</td>\n",
       "      <td>0</td>\n",
       "      <td>0</td>\n",
       "      <td>0</td>\n",
       "      <td>0</td>\n",
       "      <td>0</td>\n",
       "      <td>0</td>\n",
       "      <td>0</td>\n",
       "      <td>0</td>\n",
       "      <td>0</td>\n",
       "      <td>0</td>\n",
       "      <td>0</td>\n",
       "      <td>0</td>\n",
       "      <td>0</td>\n",
       "      <td>0</td>\n",
       "      <td>0</td>\n",
       "      <td>0</td>\n",
       "      <td>0</td>\n",
       "      <td>0</td>\n",
       "      <td>0</td>\n",
       "      <td>0</td>\n",
       "      <td>0</td>\n",
       "    </tr>\n",
       "    <tr>\n",
       "      <th>1</th>\n",
       "      <td>0.918549</td>\n",
       "      <td>0</td>\n",
       "      <td>0</td>\n",
       "      <td>0</td>\n",
       "      <td>1</td>\n",
       "      <td>0</td>\n",
       "      <td>0</td>\n",
       "      <td>0</td>\n",
       "      <td>0</td>\n",
       "      <td>0</td>\n",
       "      <td>0</td>\n",
       "      <td>0</td>\n",
       "      <td>0</td>\n",
       "      <td>0</td>\n",
       "      <td>1</td>\n",
       "      <td>0</td>\n",
       "      <td>0</td>\n",
       "      <td>0</td>\n",
       "      <td>0</td>\n",
       "      <td>0</td>\n",
       "      <td>0</td>\n",
       "      <td>1</td>\n",
       "      <td>0</td>\n",
       "      <td>0</td>\n",
       "      <td>0</td>\n",
       "      <td>0</td>\n",
       "      <td>0</td>\n",
       "      <td>0</td>\n",
       "      <td>0</td>\n",
       "      <td>0</td>\n",
       "      <td>0</td>\n",
       "      <td>0</td>\n",
       "      <td>0</td>\n",
       "      <td>0</td>\n",
       "      <td>0</td>\n",
       "      <td>0</td>\n",
       "      <td>0</td>\n",
       "      <td>0</td>\n",
       "      <td>0</td>\n",
       "      <td>0</td>\n",
       "      <td>0</td>\n",
       "      <td>0</td>\n",
       "      <td>0</td>\n",
       "      <td>0</td>\n",
       "      <td>0</td>\n",
       "      <td>0</td>\n",
       "      <td>0</td>\n",
       "      <td>0</td>\n",
       "      <td>0</td>\n",
       "      <td>0</td>\n",
       "      <td>0</td>\n",
       "      <td>0</td>\n",
       "      <td>0</td>\n",
       "      <td>0</td>\n",
       "      <td>0</td>\n",
       "      <td>0</td>\n",
       "      <td>0</td>\n",
       "      <td>0</td>\n",
       "      <td>0</td>\n",
       "      <td>0</td>\n",
       "      <td>0</td>\n",
       "    </tr>\n",
       "    <tr>\n",
       "      <th>2</th>\n",
       "      <td>1.427370</td>\n",
       "      <td>0</td>\n",
       "      <td>0</td>\n",
       "      <td>1</td>\n",
       "      <td>0</td>\n",
       "      <td>0</td>\n",
       "      <td>0</td>\n",
       "      <td>0</td>\n",
       "      <td>0</td>\n",
       "      <td>0</td>\n",
       "      <td>0</td>\n",
       "      <td>0</td>\n",
       "      <td>0</td>\n",
       "      <td>0</td>\n",
       "      <td>0</td>\n",
       "      <td>0</td>\n",
       "      <td>0</td>\n",
       "      <td>1</td>\n",
       "      <td>0</td>\n",
       "      <td>0</td>\n",
       "      <td>0</td>\n",
       "      <td>0</td>\n",
       "      <td>0</td>\n",
       "      <td>0</td>\n",
       "      <td>0</td>\n",
       "      <td>0</td>\n",
       "      <td>0</td>\n",
       "      <td>0</td>\n",
       "      <td>0</td>\n",
       "      <td>0</td>\n",
       "      <td>0</td>\n",
       "      <td>0</td>\n",
       "      <td>0</td>\n",
       "      <td>0</td>\n",
       "      <td>0</td>\n",
       "      <td>0</td>\n",
       "      <td>1</td>\n",
       "      <td>0</td>\n",
       "      <td>0</td>\n",
       "      <td>0</td>\n",
       "      <td>0</td>\n",
       "      <td>0</td>\n",
       "      <td>0</td>\n",
       "      <td>0</td>\n",
       "      <td>0</td>\n",
       "      <td>0</td>\n",
       "      <td>0</td>\n",
       "      <td>0</td>\n",
       "      <td>0</td>\n",
       "      <td>0</td>\n",
       "      <td>0</td>\n",
       "      <td>0</td>\n",
       "      <td>0</td>\n",
       "      <td>0</td>\n",
       "      <td>0</td>\n",
       "      <td>0</td>\n",
       "      <td>0</td>\n",
       "      <td>0</td>\n",
       "      <td>0</td>\n",
       "      <td>0</td>\n",
       "      <td>0</td>\n",
       "    </tr>\n",
       "    <tr>\n",
       "      <th>6</th>\n",
       "      <td>0.217604</td>\n",
       "      <td>0</td>\n",
       "      <td>0</td>\n",
       "      <td>1</td>\n",
       "      <td>0</td>\n",
       "      <td>0</td>\n",
       "      <td>0</td>\n",
       "      <td>0</td>\n",
       "      <td>0</td>\n",
       "      <td>0</td>\n",
       "      <td>0</td>\n",
       "      <td>0</td>\n",
       "      <td>0</td>\n",
       "      <td>0</td>\n",
       "      <td>0</td>\n",
       "      <td>0</td>\n",
       "      <td>0</td>\n",
       "      <td>1</td>\n",
       "      <td>0</td>\n",
       "      <td>0</td>\n",
       "      <td>0</td>\n",
       "      <td>0</td>\n",
       "      <td>0</td>\n",
       "      <td>0</td>\n",
       "      <td>0</td>\n",
       "      <td>0</td>\n",
       "      <td>0</td>\n",
       "      <td>0</td>\n",
       "      <td>0</td>\n",
       "      <td>0</td>\n",
       "      <td>0</td>\n",
       "      <td>0</td>\n",
       "      <td>0</td>\n",
       "      <td>0</td>\n",
       "      <td>0</td>\n",
       "      <td>1</td>\n",
       "      <td>0</td>\n",
       "      <td>0</td>\n",
       "      <td>0</td>\n",
       "      <td>0</td>\n",
       "      <td>0</td>\n",
       "      <td>0</td>\n",
       "      <td>0</td>\n",
       "      <td>0</td>\n",
       "      <td>0</td>\n",
       "      <td>0</td>\n",
       "      <td>0</td>\n",
       "      <td>0</td>\n",
       "      <td>0</td>\n",
       "      <td>0</td>\n",
       "      <td>0</td>\n",
       "      <td>0</td>\n",
       "      <td>0</td>\n",
       "      <td>0</td>\n",
       "      <td>0</td>\n",
       "      <td>0</td>\n",
       "      <td>0</td>\n",
       "      <td>0</td>\n",
       "      <td>0</td>\n",
       "      <td>0</td>\n",
       "      <td>0</td>\n",
       "    </tr>\n",
       "    <tr>\n",
       "      <th>10</th>\n",
       "      <td>2.222184</td>\n",
       "      <td>0</td>\n",
       "      <td>0</td>\n",
       "      <td>0</td>\n",
       "      <td>0</td>\n",
       "      <td>1</td>\n",
       "      <td>0</td>\n",
       "      <td>0</td>\n",
       "      <td>0</td>\n",
       "      <td>0</td>\n",
       "      <td>0</td>\n",
       "      <td>0</td>\n",
       "      <td>0</td>\n",
       "      <td>0</td>\n",
       "      <td>0</td>\n",
       "      <td>0</td>\n",
       "      <td>0</td>\n",
       "      <td>0</td>\n",
       "      <td>0</td>\n",
       "      <td>1</td>\n",
       "      <td>0</td>\n",
       "      <td>0</td>\n",
       "      <td>0</td>\n",
       "      <td>0</td>\n",
       "      <td>0</td>\n",
       "      <td>0</td>\n",
       "      <td>0</td>\n",
       "      <td>0</td>\n",
       "      <td>0</td>\n",
       "      <td>0</td>\n",
       "      <td>0</td>\n",
       "      <td>0</td>\n",
       "      <td>0</td>\n",
       "      <td>0</td>\n",
       "      <td>0</td>\n",
       "      <td>0</td>\n",
       "      <td>1</td>\n",
       "      <td>0</td>\n",
       "      <td>0</td>\n",
       "      <td>0</td>\n",
       "      <td>0</td>\n",
       "      <td>0</td>\n",
       "      <td>0</td>\n",
       "      <td>0</td>\n",
       "      <td>0</td>\n",
       "      <td>0</td>\n",
       "      <td>0</td>\n",
       "      <td>0</td>\n",
       "      <td>0</td>\n",
       "      <td>0</td>\n",
       "      <td>0</td>\n",
       "      <td>0</td>\n",
       "      <td>0</td>\n",
       "      <td>0</td>\n",
       "      <td>0</td>\n",
       "      <td>0</td>\n",
       "      <td>0</td>\n",
       "      <td>0</td>\n",
       "      <td>0</td>\n",
       "      <td>0</td>\n",
       "      <td>0</td>\n",
       "    </tr>\n",
       "  </tbody>\n",
       "</table>\n",
       "</div>"
      ],
      "text/plain": [
       "        Area  Bedrooms-1  ...  Zipcode-96019  Zipcode-98021\n",
       "0   1.541416           0  ...              0              0\n",
       "1   0.918549           0  ...              0              0\n",
       "2   1.427370           0  ...              0              0\n",
       "6   0.217604           0  ...              0              0\n",
       "10  2.222184           0  ...              0              0\n",
       "\n",
       "[5 rows x 61 columns]"
      ]
     },
     "execution_count": 39,
     "metadata": {
      "tags": []
     },
     "output_type": "execute_result"
    }
   ],
   "source": [
    "text_x.head()"
   ]
  },
  {
   "cell_type": "markdown",
   "metadata": {
    "colab_type": "text",
    "id": "5dRvZxLXnDko"
   },
   "source": [
    "#split"
   ]
  },
  {
   "cell_type": "code",
   "execution_count": 0,
   "metadata": {
    "colab": {},
    "colab_type": "code",
    "id": "i59kzOX6O4Ol"
   },
   "outputs": [],
   "source": [
    "x_train, x_test, y_train, y_test = train_test_split(text_x, text_y, test_size=0.3, random_state=42)"
   ]
  },
  {
   "cell_type": "code",
   "execution_count": 0,
   "metadata": {
    "colab": {},
    "colab_type": "code",
    "id": "_QGOf6upPS9B"
   },
   "outputs": [],
   "source": [
    "img_train, img_test = train_test_split(img_arr, test_size=0.3, shuffle=False, stratify=None)"
   ]
  },
  {
   "cell_type": "code",
   "execution_count": 42,
   "metadata": {
    "colab": {
     "base_uri": "https://localhost:8080/",
     "height": 117
    },
    "colab_type": "code",
    "id": "Zp-VWtSHPZzS",
    "outputId": "0735227a-5e8d-4034-e8d5-8225fe05eafc"
   },
   "outputs": [
    {
     "name": "stdout",
     "output_type": "stream",
     "text": [
      "(284, 61)\n",
      "(284, 1)\n",
      "(122, 61)\n",
      "(122, 1)\n",
      "(284, 128, 128, 3)\n",
      "(122, 128, 128, 3)\n"
     ]
    }
   ],
   "source": [
    "print(x_train.shape)\n",
    "print(y_train.shape)\n",
    "print(x_test.shape)\n",
    "print(y_test.shape)\n",
    "print(img_train.shape)\n",
    "print(img_test.shape)"
   ]
  },
  {
   "cell_type": "markdown",
   "metadata": {
    "colab_type": "text",
    "id": "WCw3ZXbYnL9J"
   },
   "source": [
    "# Keras functional API"
   ]
  },
  {
   "cell_type": "code",
   "execution_count": 49,
   "metadata": {
    "colab": {
     "base_uri": "https://localhost:8080/",
     "height": 1000
    },
    "colab_type": "code",
    "id": "_GsUOQmNPyRI",
    "outputId": "15ee018b-46cd-4107-ce84-43bd3dffc450"
   },
   "outputs": [
    {
     "name": "stdout",
     "output_type": "stream",
     "text": [
      "Model: \"model_3\"\n",
      "__________________________________________________________________________________________________\n",
      "Layer (type)                    Output Shape         Param #     Connected to                     \n",
      "==================================================================================================\n",
      "input_3 (InputLayer)            (None, 128, 128, 3)  0                                            \n",
      "__________________________________________________________________________________________________\n",
      "conv2d_9 (Conv2D)               (None, 125, 125, 64) 3136        input_3[0][0]                    \n",
      "__________________________________________________________________________________________________\n",
      "max_pooling2d_9 (MaxPooling2D)  (None, 62, 62, 64)   0           conv2d_9[0][0]                   \n",
      "__________________________________________________________________________________________________\n",
      "dense_19_input (InputLayer)     (None, 61)           0                                            \n",
      "__________________________________________________________________________________________________\n",
      "conv2d_10 (Conv2D)              (None, 60, 60, 32)   18464       max_pooling2d_9[0][0]            \n",
      "__________________________________________________________________________________________________\n",
      "dense_19 (Dense)                (None, 512)          31744       dense_19_input[0][0]             \n",
      "__________________________________________________________________________________________________\n",
      "max_pooling2d_10 (MaxPooling2D) (None, 30, 30, 32)   0           conv2d_10[0][0]                  \n",
      "__________________________________________________________________________________________________\n",
      "dense_20 (Dense)                (None, 256)          131328      dense_19[0][0]                   \n",
      "__________________________________________________________________________________________________\n",
      "conv2d_11 (Conv2D)              (None, 27, 27, 16)   8208        max_pooling2d_10[0][0]           \n",
      "__________________________________________________________________________________________________\n",
      "dense_21 (Dense)                (None, 128)          32896       dense_20[0][0]                   \n",
      "__________________________________________________________________________________________________\n",
      "max_pooling2d_11 (MaxPooling2D) (None, 13, 13, 16)   0           conv2d_11[0][0]                  \n",
      "__________________________________________________________________________________________________\n",
      "dense_22 (Dense)                (None, 64)           8256        dense_21[0][0]                   \n",
      "__________________________________________________________________________________________________\n",
      "conv2d_12 (Conv2D)              (None, 10, 10, 16)   4112        max_pooling2d_11[0][0]           \n",
      "__________________________________________________________________________________________________\n",
      "dense_23 (Dense)                (None, 32)           2080        dense_22[0][0]                   \n",
      "__________________________________________________________________________________________________\n",
      "max_pooling2d_12 (MaxPooling2D) (None, 5, 5, 16)     0           conv2d_12[0][0]                  \n",
      "__________________________________________________________________________________________________\n",
      "dense_24 (Dense)                (None, 1)            33          dense_23[0][0]                   \n",
      "__________________________________________________________________________________________________\n",
      "flatten_3 (Flatten)             (None, 400)          0           max_pooling2d_12[0][0]           \n",
      "__________________________________________________________________________________________________\n",
      "concatenate_3 (Concatenate)     (None, 401)          0           dense_24[0][0]                   \n",
      "                                                                 flatten_3[0][0]                  \n",
      "__________________________________________________________________________________________________\n",
      "dense_25 (Dense)                (None, 10)           4020        concatenate_3[0][0]              \n",
      "__________________________________________________________________________________________________\n",
      "dense_26 (Dense)                (None, 10)           110         dense_25[0][0]                   \n",
      "__________________________________________________________________________________________________\n",
      "dense_27 (Dense)                (None, 1)            11          dense_26[0][0]                   \n",
      "==================================================================================================\n",
      "Total params: 244,398\n",
      "Trainable params: 244,398\n",
      "Non-trainable params: 0\n",
      "__________________________________________________________________________________________________\n",
      "None\n"
     ]
    },
    {
     "data": {
      "image/png": "[encoded data removed]",
      "text/plain": [
       "<IPython.core.display.Image object>"
      ]
     },
     "execution_count": 49,
     "metadata": {
      "tags": []
     },
     "output_type": "execute_result"
    }
   ],
   "source": [
    "# Multiple Inputs\n",
    "from sklearn import metrics\n",
    "from keras.utils import plot_model\n",
    "from keras.models import Model, Sequential\n",
    "from keras.layers import Input, Dense, Flatten, Activation, Dropout\n",
    "from keras.layers.convolutional import Conv2D\n",
    "from keras.layers.pooling import MaxPooling2D\n",
    "from keras.layers.merge import concatenate\n",
    "from keras.callbacks import EarlyStopping\n",
    "from keras.callbacks import ModelCheckpoint\n",
    "\n",
    "#Model1\n",
    "model1 = Sequential()\n",
    "model1.add(Dense(512, input_dim=x_train.shape[1], activation=\"relu\"))\n",
    "model1.add(Dense(256,activation=\"relu\"))\n",
    "model1.add(Dense(128,activation=\"relu\"))\n",
    "model1.add(Dense(64,activation=\"relu\"))\n",
    "model1.add(Dense(32,activation=\"relu\"))\n",
    "model1.add(Dense(1))\n",
    "\n",
    "#Model2\n",
    "visible2 = Input(shape=(128,128,3))\n",
    "conv1 = Conv2D(64, kernel_size=4, activation='relu')(visible2)\n",
    "pool1 = MaxPooling2D(pool_size=(2, 2))(conv1)\n",
    "conv2 = Conv2D(32, kernel_size=3, activation='relu')(pool1)\n",
    "pool2 = MaxPooling2D(pool_size=(2, 2))(conv2)\n",
    "conv3 = Conv2D(16, kernel_size=4, activation='relu')(pool2)\n",
    "pool3 = MaxPooling2D(pool_size=(2, 2))(conv3)\n",
    "conv4 = Conv2D(16, kernel_size=4, activation='relu')(pool3)\n",
    "pool4 = MaxPooling2D(pool_size=(2, 2))(conv4)\n",
    "flat = Flatten()(pool4)\n",
    "\n",
    "\n",
    "#Merging\n",
    "merge = concatenate([model1.output, flat])\n",
    "\n",
    "hidden1 = Dense(10, activation='relu')(merge)\n",
    "hidden2 = Dense(10, activation='relu')(hidden1)\n",
    "output = Dense(1, activation=\"relu\")(hidden2)\n",
    "\n",
    "model = Model(inputs=[model1.input, visible2], outputs=output)\n",
    "\n",
    "print(model.summary())\n",
    "\n",
    "plot_model(model,)"
   ]
  },
  {
   "cell_type": "code",
   "execution_count": 50,
   "metadata": {
    "colab": {
     "base_uri": "https://localhost:8080/",
     "height": 1000
    },
    "colab_type": "code",
    "id": "V0u7PdfA1XXP",
    "outputId": "3772aad7-45ec-4e0d-e9bf-16ecbf836fd8"
   },
   "outputs": [
    {
     "name": "stdout",
     "output_type": "stream",
     "text": [
      "Train on 284 samples, validate on 122 samples\n",
      "Epoch 1/200\n",
      " - 1s - loss: 280456249574.7606 - val_loss: 278073968203.5410\n",
      "Epoch 2/200\n",
      " - 0s - loss: 250335444761.2394 - val_loss: 176727262526.9508\n",
      "Epoch 3/200\n",
      " - 0s - loss: 103086049885.7465 - val_loss: 70821043955.4098\n",
      "Epoch 4/200\n",
      " - 0s - loss: 61172182809.2394 - val_loss: 69647658672.2623\n",
      "Epoch 5/200\n",
      " - 0s - loss: 59474875464.1127 - val_loss: 51515977795.1475\n",
      "Epoch 6/200\n",
      " - 0s - loss: 53976180995.6056 - val_loss: 49264308962.6229\n",
      "Epoch 7/200\n",
      " - 0s - loss: 52720689036.6197 - val_loss: 47196869078.0328\n",
      "Epoch 8/200\n",
      " - 0s - loss: 51846787879.6620 - val_loss: 47931188744.3934\n",
      "Epoch 9/200\n",
      " - 0s - loss: 53825757472.4507 - val_loss: 47663521724.8525\n",
      "Epoch 10/200\n",
      " - 0s - loss: 52715920658.0282 - val_loss: 48348320482.6229\n",
      "Epoch 11/200\n",
      " - 0s - loss: 51918646199.8873 - val_loss: 47067486980.1967\n",
      "Epoch 12/200\n",
      " - 0s - loss: 51262471845.8592 - val_loss: 46571553439.4754\n",
      "Epoch 13/200\n",
      " - 0s - loss: 49320491498.3662 - val_loss: 45369945104.7869\n",
      "Epoch 14/200\n",
      " - 0s - loss: 47812103211.2676 - val_loss: 43370276696.1311\n",
      "Epoch 15/200\n",
      " - 0s - loss: 44767360245.1831 - val_loss: 38925141243.8033\n",
      "Epoch 16/200\n",
      " - 0s - loss: 40720560070.3099 - val_loss: 35429730774.0328\n",
      "Epoch 17/200\n",
      " - 0s - loss: 35862816162.2535 - val_loss: 30145703264.5246\n",
      "Epoch 18/200\n",
      " - 0s - loss: 31868082233.6901 - val_loss: 26994457616.7869\n",
      "Epoch 19/200\n",
      " - 0s - loss: 27231892782.8732 - val_loss: 24295192257.0492\n",
      "Epoch 20/200\n",
      " - 0s - loss: 24163082369.8028 - val_loss: 21616333454.6885\n",
      "Epoch 21/200\n",
      " - 0s - loss: 21596148577.3521 - val_loss: 19496995369.9672\n",
      "Epoch 22/200\n",
      " - 0s - loss: 19705528031.5493 - val_loss: 18099506075.2787\n",
      "Epoch 23/200\n",
      " - 0s - loss: 17187000579.6056 - val_loss: 16224742433.5738\n",
      "Epoch 24/200\n",
      " - 0s - loss: 15268846116.0563 - val_loss: 15122993991.3443\n",
      "Epoch 25/200\n",
      " - 0s - loss: 14089124092.3944 - val_loss: 15923343074.6230\n",
      "Epoch 26/200\n",
      " - 0s - loss: 13510868689.1268 - val_loss: 13789892843.0164\n",
      "Epoch 27/200\n",
      " - 0s - loss: 12174801097.9155 - val_loss: 14358010611.4098\n",
      "Epoch 28/200\n",
      " - 0s - loss: 11427461624.7887 - val_loss: 13783757530.2295\n",
      "Epoch 29/200\n",
      " - 0s - loss: 10898576629.1831 - val_loss: 14049245469.3770\n",
      "Epoch 30/200\n",
      " - 0s - loss: 10319590702.8732 - val_loss: 13473016764.8525\n",
      "Epoch 31/200\n",
      " - 0s - loss: 10378433189.8592 - val_loss: 13299429627.8033\n",
      "Epoch 32/200\n",
      " - 0s - loss: 9897582260.2817 - val_loss: 13623800001.0492\n",
      "Epoch 33/200\n",
      " - 0s - loss: 9358477849.2394 - val_loss: 13148705363.9344\n",
      "Epoch 34/200\n",
      " - 0s - loss: 9205331290.1408 - val_loss: 13697012098.0984\n",
      "Epoch 35/200\n",
      " - 0s - loss: 9026640744.5634 - val_loss: 13038118744.1311\n",
      "Epoch 36/200\n",
      " - 0s - loss: 8803603931.9437 - val_loss: 12752934970.7541\n",
      "Epoch 37/200\n",
      " - 0s - loss: 8486815844.9577 - val_loss: 13431677574.2951\n",
      "Epoch 38/200\n",
      " - 0s - loss: 8653130946.7042 - val_loss: 12475885920.5246\n",
      "Epoch 39/200\n",
      " - 0s - loss: 8309960336.2254 - val_loss: 12839426769.8361\n",
      "Epoch 40/200\n",
      " - 0s - loss: 7832667828.2817 - val_loss: 12454489381.7705\n",
      "Epoch 41/200\n",
      " - 0s - loss: 8100537819.9437 - val_loss: 13712816992.5246\n",
      "Epoch 42/200\n",
      " - 0s - loss: 7771566829.9718 - val_loss: 12353012819.9344\n",
      "Epoch 43/200\n",
      " - 0s - loss: 7444835104.4507 - val_loss: 13274072408.1311\n",
      "Epoch 44/200\n",
      " - 0s - loss: 7649759051.7183 - val_loss: 12584872724.9836\n",
      "Epoch 45/200\n",
      " - 0s - loss: 7253037337.2394 - val_loss: 12440991190.0328\n",
      "Epoch 46/200\n",
      " - 0s - loss: 7198867095.4366 - val_loss: 12378132001.5738\n",
      "Epoch 47/200\n",
      " - 0s - loss: 7193465033.9155 - val_loss: 12173729640.9180\n",
      "Epoch 48/200\n",
      " - 0s - loss: 7474944028.8451 - val_loss: 12840514627.1475\n",
      "Epoch 49/200\n",
      " - 0s - loss: 7029021811.3803 - val_loss: 12189163008.0000\n",
      "Epoch 50/200\n",
      " - 0s - loss: 6836449290.8169 - val_loss: 13129187739.2787\n",
      "Epoch 51/200\n",
      " - 0s - loss: 6807686450.4789 - val_loss: 12171330492.8525\n",
      "Epoch 52/200\n",
      " - 0s - loss: 6858768600.3380 - val_loss: 12877859269.2459\n",
      "Epoch 53/200\n",
      " - 0s - loss: 7072559882.8169 - val_loss: 12917890518.0328\n",
      "Epoch 54/200\n",
      " - 0s - loss: 6883796350.1972 - val_loss: 12193646717.9016\n",
      "Epoch 55/200\n",
      " - 0s - loss: 7009257118.6479 - val_loss: 12213916092.8525\n",
      "Epoch 56/200\n",
      " - 0s - loss: 6602722390.5352 - val_loss: 12326416702.9508\n",
      "Epoch 00056: early stopping\n"
     ]
    }
   ],
   "source": [
    "model.compile(loss=\"mean_squared_error\", optimizer='adam')\n",
    "\n",
    "monitor = EarlyStopping(monitor='val_loss', min_delta=1e-3, patience=5, verbose=1, mode='auto')\n",
    "checkpointer = ModelCheckpoint(filepath=\"best_weights.hdf5\", verbose=0, save_best_only=True) # save best model\n",
    "model.fit([x_train,img_train], y_train, validation_data= ([x_test, img_test], y_test), callbacks=[monitor,checkpointer],verbose=2,epochs=200)\n",
    "model.load_weights('best_weights.hdf5') # load weights from best model"
   ]
  },
  {
   "cell_type": "code",
   "execution_count": 51,
   "metadata": {
    "colab": {
     "base_uri": "https://localhost:8080/",
     "height": 282
    },
    "colab_type": "code",
    "id": "5GtljQxH9FqH",
    "outputId": "461ced5d-f3e7-4ac5-da4d-3ce0114687c8"
   },
   "outputs": [
    {
     "name": "stdout",
     "output_type": "stream",
     "text": [
      "Score (RMSE): 110323.75148492663\n"
     ]
    },
    {
     "data": {
      "image/png": "[encoded data removed]",
      "text/plain": [
       "<Figure size 432x288 with 1 Axes>"
      ]
     },
     "metadata": {
      "tags": []
     },
     "output_type": "display_data"
    }
   ],
   "source": [
    "pred = model.predict([x_test, img_test])\n",
    "rmse = np.sqrt(metrics.mean_squared_error(pred,y_test))\n",
    "print(\"Score (RMSE): {}\".format(rmse))\n",
    "\n",
    "#regression lift Chart\n",
    "chart_regression(pred.flatten(), y_test.to_numpy(), sort=True)"
   ]
  },
  {
   "cell_type": "code",
   "execution_count": 0,
   "metadata": {
    "colab": {},
    "colab_type": "code",
    "id": "-pqM7mYzHoxc"
   },
   "outputs": [],
   "source": []
  }
 ],
 "metadata": {
  "accelerator": "GPU",
  "colab": {
   "collapsed_sections": [],
   "name": "Mini Project 3.ipynb",
   "provenance": []
  },
  "kernelspec": {
   "display_name": "Python 3",
   "language": "python",
   "name": "python3"
  },
  "language_info": {
   "codemirror_mode": {
    "name": "ipython",
    "version": 3
   },
   "file_extension": ".py",
   "mimetype": "text/x-python",
   "name": "python",
   "nbconvert_exporter": "python",
   "pygments_lexer": "ipython3",
   "version": "3.7.4"
  }
 },
 "nbformat": 4,
 "nbformat_minor": 1
}
